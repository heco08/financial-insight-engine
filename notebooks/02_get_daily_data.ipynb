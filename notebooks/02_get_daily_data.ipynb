{
 "cells": [
  {
   "cell_type": "code",
   "execution_count": 1,
   "id": "e17c7854-47d5-4e5e-9b78-309bee7e7053",
   "metadata": {},
   "outputs": [
    {
     "name": "stdout",
     "output_type": "stream",
     "text": [
      "Downloading data for AAPL...\n"
     ]
    },
    {
     "name": "stderr",
     "output_type": "stream",
     "text": [
      "[*********************100%***********************]  1 of 1 completed\n"
     ]
    },
    {
     "name": "stdout",
     "output_type": "stream",
     "text": [
      "Downloading data for MSFT...\n"
     ]
    },
    {
     "name": "stderr",
     "output_type": "stream",
     "text": [
      "[*********************100%***********************]  1 of 1 completed\n"
     ]
    },
    {
     "name": "stdout",
     "output_type": "stream",
     "text": [
      "Downloading data for AMZN...\n"
     ]
    },
    {
     "name": "stderr",
     "output_type": "stream",
     "text": [
      "[*********************100%***********************]  1 of 1 completed\n",
      "/tmp/ipykernel_14227/1538817992.py:34: PerformanceWarning: dropping on a non-lexsorted multi-index without a level parameter may impact performance.\n",
      "  combined_df = pd.merge(combined_df, df, on='Date', how='outer')\n"
     ]
    },
    {
     "name": "stdout",
     "output_type": "stream",
     "text": [
      "Downloading data for GOOG...\n"
     ]
    },
    {
     "name": "stderr",
     "output_type": "stream",
     "text": [
      "[*********************100%***********************]  1 of 1 completed\n"
     ]
    },
    {
     "name": "stdout",
     "output_type": "stream",
     "text": [
      "Downloading data for TSLA...\n"
     ]
    },
    {
     "name": "stderr",
     "output_type": "stream",
     "text": [
      "[*********************100%***********************]  1 of 1 completed\n"
     ]
    },
    {
     "name": "stdout",
     "output_type": "stream",
     "text": [
      "Downloading data for META...\n"
     ]
    },
    {
     "name": "stderr",
     "output_type": "stream",
     "text": [
      "[*********************100%***********************]  1 of 1 completed\n"
     ]
    },
    {
     "name": "stdout",
     "output_type": "stream",
     "text": [
      "Downloading data for JPM...\n"
     ]
    },
    {
     "name": "stderr",
     "output_type": "stream",
     "text": [
      "[*********************100%***********************]  1 of 1 completed\n"
     ]
    },
    {
     "name": "stdout",
     "output_type": "stream",
     "text": [
      "Downloading data for NFLX...\n"
     ]
    },
    {
     "name": "stderr",
     "output_type": "stream",
     "text": [
      "[*********************100%***********************]  1 of 1 completed\n"
     ]
    },
    {
     "name": "stdout",
     "output_type": "stream",
     "text": [
      "Downloading data for ^GSPC...\n"
     ]
    },
    {
     "name": "stderr",
     "output_type": "stream",
     "text": [
      "[*********************100%***********************]  1 of 1 completed"
     ]
    },
    {
     "name": "stdout",
     "output_type": "stream",
     "text": [
      "\n",
      "✅ Data downloaded and saved successfully.\n"
     ]
    },
    {
     "name": "stderr",
     "output_type": "stream",
     "text": [
      "\n"
     ]
    }
   ],
   "source": [
    "import yfinance as yf\n",
    "import pandas as pd\n",
    "import os\n",
    "\n",
    "tickers = ['AAPL', 'MSFT', 'AMZN', 'GOOG', 'TSLA', 'META', 'JPM', 'NFLX', '^GSPC']\n",
    "\n",
    "start_date = '2017-07-01'\n",
    "end_date = '2025-07-01'\n",
    "\n",
    "combined_df = pd.DataFrame()\n",
    "\n",
    "for ticker in tickers:\n",
    "    print(f\"Downloading data for {ticker}...\")\n",
    "    df = yf.download(ticker, start=start_date, end=end_date, auto_adjust=False)\n",
    "    \n",
    "    if df.empty:\n",
    "        print(f\"⚠️ No data found for {ticker}\")\n",
    "        continue\n",
    "\n",
    "    df.reset_index(inplace=True)\n",
    "\n",
    "    if 'Adj Close' in df.columns:\n",
    "        price_col = 'Adj Close'\n",
    "    else:\n",
    "        price_col = 'Close'\n",
    "\n",
    "    df = df[['Date', price_col]].rename(columns={price_col: ticker})\n",
    "\n",
    "    df.to_csv(f'../data/{ticker}.csv', index=False)\n",
    "\n",
    "    if combined_df.empty:\n",
    "        combined_df = df\n",
    "    else:\n",
    "        combined_df = pd.merge(combined_df, df, on='Date', how='outer')\n",
    "\n",
    "combined_df.to_csv('../data/all_stocks_2017_2025.csv', index=False)\n",
    "\n",
    "print(\"\\n✅ Data downloaded and saved successfully.\")\n"
   ]
  },
  {
   "cell_type": "code",
   "execution_count": 2,
   "id": "ff0e52db-f1f8-4ab7-b6e4-569e92d7f1df",
   "metadata": {},
   "outputs": [
    {
     "name": "stdout",
     "output_type": "stream",
     "text": [
      "✅ First row removed and file saved.\n"
     ]
    }
   ],
   "source": [
    "import pandas as pd\n",
    "\n",
    "# Load file skipping no rows\n",
    "df = pd.read_csv('../data/all_stocks_2017_2025.csv')\n",
    "\n",
    "# Drop the first row\n",
    "df_cleaned = df.iloc[1:].reset_index(drop=True)\n",
    "\n",
    "# Save the cleaned version (overwrite or new name)\n",
    "df_cleaned.to_csv('../data/all_stocks_2017_2025.csv', index=False)\n",
    "\n",
    "print(\"✅ First row removed and file saved.\")\n"
   ]
  },
  {
   "cell_type": "code",
   "execution_count": 3,
   "id": "9bffc238-9269-4ead-9677-bf08936a2574",
   "metadata": {},
   "outputs": [
    {
     "name": "stdout",
     "output_type": "stream",
     "text": [
      "✅ Cleaned: AAPL.csv\n",
      "✅ Cleaned: MSFT.csv\n",
      "✅ Cleaned: AMZN.csv\n",
      "✅ Cleaned: GOOG.csv\n",
      "✅ Cleaned: TSLA.csv\n",
      "✅ Cleaned: META.csv\n",
      "✅ Cleaned: JPM.csv\n",
      "✅ Cleaned: NFLX.csv\n",
      "✅ Cleaned: ^GSPC.csv\n"
     ]
    }
   ],
   "source": [
    "import pandas as pd\n",
    "import os\n",
    "\n",
    "# List of ticker symbols\n",
    "tickers = ['AAPL', 'MSFT', 'AMZN', 'GOOG', 'TSLA', 'META', 'JPM', 'NFLX', '^GSPC']\n",
    "\n",
    "# Path to the data folder\n",
    "data_path = '../data/'\n",
    "\n",
    "# Clean each CSV by removing the first row\n",
    "for ticker in tickers:\n",
    "    filename = f\"{ticker}.csv\"\n",
    "    filepath = os.path.join(data_path, filename)\n",
    "\n",
    "    try:\n",
    "        df = pd.read_csv(filepath)\n",
    "\n",
    "        if len(df) > 1:\n",
    "            df_cleaned = df.iloc[1:].reset_index(drop=True)\n",
    "            df_cleaned.to_csv(filepath, index=False)\n",
    "            print(f\"✅ Cleaned: {filename}\")\n",
    "        else:\n",
    "            print(f\"⚠️ Skipped (not enough rows): {filename}\")\n",
    "    except FileNotFoundError:\n",
    "        print(f\"❌ File not found: {filename}\")\n"
   ]
  },
  {
   "cell_type": "code",
   "execution_count": null,
   "id": "6c5c815f-e1ee-454a-a8a6-2779298002d0",
   "metadata": {},
   "outputs": [],
   "source": []
  }
 ],
 "metadata": {
  "kernelspec": {
   "display_name": "Python 3 (ipykernel)",
   "language": "python",
   "name": "python3"
  },
  "language_info": {
   "codemirror_mode": {
    "name": "ipython",
    "version": 3
   },
   "file_extension": ".py",
   "mimetype": "text/x-python",
   "name": "python",
   "nbconvert_exporter": "python",
   "pygments_lexer": "ipython3",
   "version": "3.12.7"
  }
 },
 "nbformat": 4,
 "nbformat_minor": 5
}
